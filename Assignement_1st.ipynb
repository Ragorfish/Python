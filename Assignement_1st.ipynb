{
  "nbformat": 4,
  "nbformat_minor": 0,
  "metadata": {
    "colab": {
      "provenance": [],
      "authorship_tag": "ABX9TyOhMlJwJJiH8uKo6ZogFv/h",
      "include_colab_link": true
    },
    "kernelspec": {
      "name": "python3",
      "display_name": "Python 3"
    },
    "language_info": {
      "name": "python"
    }
  },
  "cells": [
    {
      "cell_type": "markdown",
      "metadata": {
        "id": "view-in-github",
        "colab_type": "text"
      },
      "source": [
        "<a href=\"https://colab.research.google.com/github/Ragorfish/Python/blob/main/Assignement_1st.ipynb\" target=\"_parent\"><img src=\"https://colab.research.google.com/assets/colab-badge.svg\" alt=\"Open In Colab\"/></a>"
      ]
    },
    {
      "cell_type": "markdown",
      "source": [],
      "metadata": {
        "id": "taIyWubLGXh1"
      }
    },
    {
      "cell_type": "markdown",
      "source": [
        "Write a code to reverse a string"
      ],
      "metadata": {
        "id": "kKCwCgEHGaLm"
      }
    },
    {
      "cell_type": "code",
      "source": [
        "def reverse_string(s):\n",
        "    return s[::-1]\n",
        "\n",
        "print(reverse_string(\"PWSkills\"))\n"
      ],
      "metadata": {
        "colab": {
          "base_uri": "https://localhost:8080/",
          "height": 0
        },
        "id": "b9aorJMTGegx",
        "outputId": "1c04f1a8-0c4c-4335-cca9-e197220ef194"
      },
      "execution_count": 3,
      "outputs": [
        {
          "output_type": "stream",
          "name": "stdout",
          "text": [
            "sllikSWP\n"
          ]
        }
      ]
    },
    {
      "cell_type": "markdown",
      "source": [
        "Write a code to count the number of vowels in a string"
      ],
      "metadata": {
        "id": "eR--OGaFGiPV"
      }
    },
    {
      "cell_type": "code",
      "source": [
        "def count_vowels(s):\n",
        "    vowels = \"aeiouAEIOU\"\n",
        "    return sum(1 for char in s if char in vowels)\n",
        "\n",
        "print(count_vowels(\"PWSkills\"))\n"
      ],
      "metadata": {
        "colab": {
          "base_uri": "https://localhost:8080/",
          "height": 0
        },
        "id": "aqqSaMoFGmsY",
        "outputId": "2dc187de-db49-4d6b-f0f0-3306bde48092"
      },
      "execution_count": 4,
      "outputs": [
        {
          "output_type": "stream",
          "name": "stdout",
          "text": [
            "1\n"
          ]
        }
      ]
    },
    {
      "cell_type": "markdown",
      "source": [
        "Write a code to check if a given string is a palindrome or not\n"
      ],
      "metadata": {
        "id": "MASSFcovG1ZN"
      }
    },
    {
      "cell_type": "code",
      "source": [
        "def is_palindrome(s):\n",
        "    return s == s[::-1]\n",
        "\n",
        "print(is_palindrome(\"madam\"))\n"
      ],
      "metadata": {
        "colab": {
          "base_uri": "https://localhost:8080/",
          "height": 0
        },
        "id": "ZTdnb7OHG38z",
        "outputId": "05143c57-21f6-472c-d38f-2732e30fc718"
      },
      "execution_count": 5,
      "outputs": [
        {
          "output_type": "stream",
          "name": "stdout",
          "text": [
            "True\n"
          ]
        }
      ]
    },
    {
      "cell_type": "markdown",
      "source": [
        "Write a code to check if two given strings are anagrams of each other"
      ],
      "metadata": {
        "id": "FZtBdBoXG-yY"
      }
    },
    {
      "cell_type": "code",
      "source": [
        "def are_anagrams(s1, s2):\n",
        "    return sorted(s1) == sorted(s2)\n",
        "\n",
        "print(are_anagrams(\"listen\", \"silent\"))\n"
      ],
      "metadata": {
        "colab": {
          "base_uri": "https://localhost:8080/",
          "height": 0
        },
        "id": "2bXqOmbGHAfX",
        "outputId": "9f138473-b447-4096-f58f-2a2d85599b2b"
      },
      "execution_count": 6,
      "outputs": [
        {
          "output_type": "stream",
          "name": "stdout",
          "text": [
            "True\n"
          ]
        }
      ]
    },
    {
      "cell_type": "markdown",
      "source": [
        "Write a code to find all occurrences of a given substring within another string"
      ],
      "metadata": {
        "id": "J9uehl8gHGG_"
      }
    },
    {
      "cell_type": "code",
      "source": [
        "def find_occurrences(string, substring):\n",
        "    return [i for i in range(len(string)) if string.startswith(substring, i)]\n",
        "\n",
        "print(find_occurrences(\"banana\", \"ana\"))\n"
      ],
      "metadata": {
        "colab": {
          "base_uri": "https://localhost:8080/",
          "height": 0
        },
        "id": "tpA6ib3aHLLk",
        "outputId": "21dd1cf4-3252-434d-8d48-b5b9106cfe86"
      },
      "execution_count": 7,
      "outputs": [
        {
          "output_type": "stream",
          "name": "stdout",
          "text": [
            "[1, 3]\n"
          ]
        }
      ]
    },
    {
      "cell_type": "markdown",
      "source": [
        "Write a code to perform basic string compression using the counts of repeated characters\n"
      ],
      "metadata": {
        "id": "1KYYXp-5HOEP"
      }
    },
    {
      "cell_type": "code",
      "source": [
        "def compress_string(s):\n",
        "    compressed = []\n",
        "    count = 1\n",
        "    for i in range(1, len(s)):\n",
        "        if s[i] == s[i - 1]:\n",
        "            count += 1\n",
        "        else:\n",
        "            compressed.append(s[i - 1] + str(count))\n",
        "            count = 1\n",
        "    compressed.append(s[-1] + str(count))\n",
        "    return ''.join(compressed)\n",
        "\n",
        "print(compress_string(\"aaabbc\"))\n"
      ],
      "metadata": {
        "colab": {
          "base_uri": "https://localhost:8080/",
          "height": 0
        },
        "id": "ij_JclNMHQRx",
        "outputId": "35b921a8-a6b2-40ab-fe65-8ca1552aaaae"
      },
      "execution_count": 8,
      "outputs": [
        {
          "output_type": "stream",
          "name": "stdout",
          "text": [
            "a3b2c1\n"
          ]
        }
      ]
    },
    {
      "cell_type": "markdown",
      "source": [
        "Write a code to determine if a string has all unique characters\n"
      ],
      "metadata": {
        "id": "XAB_3dWIHUfY"
      }
    },
    {
      "cell_type": "code",
      "source": [
        "def has_unique_chars(s):\n",
        "    return len(set(s)) == len(s)\n",
        "\n",
        "print(has_unique_chars(\"abcde\"))\n"
      ],
      "metadata": {
        "colab": {
          "base_uri": "https://localhost:8080/",
          "height": 0
        },
        "id": "bLDrndejHWhI",
        "outputId": "814af43b-d691-4a89-fc4f-e51ca6a14987"
      },
      "execution_count": 9,
      "outputs": [
        {
          "output_type": "stream",
          "name": "stdout",
          "text": [
            "True\n"
          ]
        }
      ]
    },
    {
      "cell_type": "markdown",
      "source": [
        "Write a code to convert a given string to uppercase or lowercase\n"
      ],
      "metadata": {
        "id": "Stl1gyAhHYyR"
      }
    },
    {
      "cell_type": "code",
      "source": [
        "def convert_case(s, to_upper=True):\n",
        "    return s.upper() if to_upper else s.lower()\n",
        "\n",
        "print(convert_case(\"PWSkills\", to_upper=True))\n"
      ],
      "metadata": {
        "colab": {
          "base_uri": "https://localhost:8080/",
          "height": 0
        },
        "id": "EH_xFkq6HaqO",
        "outputId": "d8c64ea1-2ab7-42d3-d0cd-f0e1dbe2f655"
      },
      "execution_count": 10,
      "outputs": [
        {
          "output_type": "stream",
          "name": "stdout",
          "text": [
            "PWSKILLS\n"
          ]
        }
      ]
    },
    {
      "cell_type": "markdown",
      "source": [
        "Write a code to count the number of words in a string\n"
      ],
      "metadata": {
        "id": "IVlKWFiYHdzO"
      }
    },
    {
      "cell_type": "code",
      "source": [
        "def count_words(s):\n",
        "    return len(s.split())\n",
        "\n",
        "print(count_words(\"PWSkills is amazing\"))\n",
        "\n"
      ],
      "metadata": {
        "colab": {
          "base_uri": "https://localhost:8080/",
          "height": 0
        },
        "id": "rSdSjUNgHfh9",
        "outputId": "b95b5db6-2a03-49f0-f621-8c7e0b120780"
      },
      "execution_count": 11,
      "outputs": [
        {
          "output_type": "stream",
          "name": "stdout",
          "text": [
            "3\n"
          ]
        }
      ]
    },
    {
      "cell_type": "markdown",
      "source": [
        "Write a code to concatenate two strings without using the + operator"
      ],
      "metadata": {
        "id": "wsSwsUWmHmya"
      }
    },
    {
      "cell_type": "code",
      "source": [
        "def concatenate_strings(s1, s2):\n",
        "    return \"{}{}\".format(s1, s2)\n",
        "\n",
        "print(concatenate_strings(\"PW\", \"Skills\"))\n"
      ],
      "metadata": {
        "colab": {
          "base_uri": "https://localhost:8080/",
          "height": 0
        },
        "id": "mGOseweVHr3V",
        "outputId": "e0b15e92-e430-409b-eff5-f6df85a7fb36"
      },
      "execution_count": 12,
      "outputs": [
        {
          "output_type": "stream",
          "name": "stdout",
          "text": [
            "PWSkills\n"
          ]
        }
      ]
    },
    {
      "cell_type": "markdown",
      "source": [
        "Write a code to remove all occurrences of a specific element from a list\n"
      ],
      "metadata": {
        "id": "5pt1BGSKH5tn"
      }
    },
    {
      "cell_type": "code",
      "source": [
        "def remove_element(lst, element):\n",
        "    return [x for x in lst if x != element]\n",
        "\n",
        "print(remove_element([1, 2, 3, 4, 3], 3))\n"
      ],
      "metadata": {
        "colab": {
          "base_uri": "https://localhost:8080/",
          "height": 0
        },
        "id": "5eG6IFx6H7uj",
        "outputId": "ecda937b-7a8c-4f84-f2f1-a8dfc2c0c937"
      },
      "execution_count": 13,
      "outputs": [
        {
          "output_type": "stream",
          "name": "stdout",
          "text": [
            "[1, 2, 4]\n"
          ]
        }
      ]
    },
    {
      "cell_type": "markdown",
      "source": [
        "Implement a code to find the second-largest number in a given list of integers"
      ],
      "metadata": {
        "id": "3cbvmQnTH9p2"
      }
    },
    {
      "cell_type": "code",
      "source": [
        "def second_largest(lst):\n",
        "    unique_lst = list(set(lst))\n",
        "    unique_lst.sort()\n",
        "    return unique_lst[-2] if len(unique_lst) > 1 else None\n",
        "\n",
        "print(second_largest([1, 2, 3, 4, 5]))\n"
      ],
      "metadata": {
        "colab": {
          "base_uri": "https://localhost:8080/",
          "height": 0
        },
        "id": "BxGp5vVhIAYt",
        "outputId": "555fbf25-e098-4204-cacb-e143f6e1f9db"
      },
      "execution_count": 14,
      "outputs": [
        {
          "output_type": "stream",
          "name": "stdout",
          "text": [
            "4\n"
          ]
        }
      ]
    },
    {
      "cell_type": "markdown",
      "source": [
        "Create a code to count the occurrences of each element in a list and return a dictionary with elements as keys and their counts as values\n"
      ],
      "metadata": {
        "id": "plsKYkpMIECs"
      }
    },
    {
      "cell_type": "code",
      "source": [
        "from collections import Counter\n",
        "\n",
        "def count_occurrences(lst):\n",
        "    return dict(Counter(lst))\n",
        "\n",
        "print(count_occurrences([1, 2, 2, 3, 3, 3]))\n"
      ],
      "metadata": {
        "colab": {
          "base_uri": "https://localhost:8080/",
          "height": 0
        },
        "id": "ya8BbVLvIEur",
        "outputId": "cc9c374c-62e3-4b66-8894-f316d25f4e6b"
      },
      "execution_count": 15,
      "outputs": [
        {
          "output_type": "stream",
          "name": "stdout",
          "text": [
            "{1: 1, 2: 2, 3: 3}\n"
          ]
        }
      ]
    },
    {
      "cell_type": "markdown",
      "source": [
        "Write a code to reverse a list in place without using any built-in reverse functions\n"
      ],
      "metadata": {
        "id": "cqOChz_eIGze"
      }
    },
    {
      "cell_type": "code",
      "source": [
        "def reverse_list(lst):\n",
        "    for i in range(len(lst) // 2):\n",
        "        lst[i], lst[-i - 1] = lst[-i - 1], lst[i]\n",
        "    return lst\n",
        "\n",
        "print(reverse_list([1, 2, 3, 4, 5]))\n"
      ],
      "metadata": {
        "colab": {
          "base_uri": "https://localhost:8080/",
          "height": 0
        },
        "id": "lbZrwYvqIIyJ",
        "outputId": "dba44204-6734-4759-b5bb-8df9b92a98c8"
      },
      "execution_count": 16,
      "outputs": [
        {
          "output_type": "stream",
          "name": "stdout",
          "text": [
            "[5, 4, 3, 2, 1]\n"
          ]
        }
      ]
    },
    {
      "cell_type": "markdown",
      "source": [
        "Implement a code to find and remove duplicates from a list while preserving the original order of elements\n"
      ],
      "metadata": {
        "id": "9IvvYy1EILCA"
      }
    },
    {
      "cell_type": "code",
      "source": [
        "def remove_duplicates(lst):\n",
        "    seen = set()\n",
        "    return [x for x in lst if not (x in seen or seen.add(x))]\n",
        "\n",
        "print(remove_duplicates([1, 2, 2, 3, 4, 3]))\n"
      ],
      "metadata": {
        "colab": {
          "base_uri": "https://localhost:8080/",
          "height": 0
        },
        "id": "5DBAXJljINyG",
        "outputId": "9a78fb08-583c-4eca-f815-a5a33949e832"
      },
      "execution_count": 17,
      "outputs": [
        {
          "output_type": "stream",
          "name": "stdout",
          "text": [
            "[1, 2, 3, 4]\n"
          ]
        }
      ]
    },
    {
      "cell_type": "markdown",
      "source": [
        "Create a code to check if a given list is sorted (either in ascending or descending order) or not"
      ],
      "metadata": {
        "id": "YkEzX8qSIR87"
      }
    },
    {
      "cell_type": "code",
      "source": [
        "def is_sorted(lst):\n",
        "    return lst == sorted(lst) or lst == sorted(lst, reverse=True)\n",
        "\n",
        "print(is_sorted([1, 2, 3]))\n"
      ],
      "metadata": {
        "colab": {
          "base_uri": "https://localhost:8080/",
          "height": 0
        },
        "id": "BnrbeSOfISlm",
        "outputId": "9374964e-c1af-43d3-e4e9-75d7f460c4ad"
      },
      "execution_count": 18,
      "outputs": [
        {
          "output_type": "stream",
          "name": "stdout",
          "text": [
            "True\n"
          ]
        }
      ]
    },
    {
      "cell_type": "markdown",
      "source": [
        "Write a code to merge two sorted lists into a single sorted list"
      ],
      "metadata": {
        "id": "83Ad6kqMIWkR"
      }
    },
    {
      "cell_type": "code",
      "source": [
        "def merge_sorted_lists(lst1, lst2):\n",
        "    return sorted(lst1 + lst2)\n",
        "\n",
        "print(merge_sorted_lists([1, 3, 5], [2, 4, 6]))\n"
      ],
      "metadata": {
        "colab": {
          "base_uri": "https://localhost:8080/",
          "height": 0
        },
        "id": "XVJu7pfJIXco",
        "outputId": "d3dc4590-17a9-443d-801a-1ab2984c80f5"
      },
      "execution_count": 19,
      "outputs": [
        {
          "output_type": "stream",
          "name": "stdout",
          "text": [
            "[1, 2, 3, 4, 5, 6]\n"
          ]
        }
      ]
    },
    {
      "cell_type": "markdown",
      "source": [
        "Implement a code to find the intersection of two given lists"
      ],
      "metadata": {
        "id": "0ZMgv2SWIcCP"
      }
    },
    {
      "cell_type": "code",
      "source": [
        "def intersection(lst1, lst2):\n",
        "    return list(set(lst1) & set(lst2))\n",
        "\n",
        "print(intersection([1, 2, 3], [2, 3, 4]))\n"
      ],
      "metadata": {
        "colab": {
          "base_uri": "https://localhost:8080/",
          "height": 0
        },
        "id": "Ant96ya8Icma",
        "outputId": "c049c85c-c740-4e79-af64-03af7dd11365"
      },
      "execution_count": 20,
      "outputs": [
        {
          "output_type": "stream",
          "name": "stdout",
          "text": [
            "[2, 3]\n"
          ]
        }
      ]
    },
    {
      "cell_type": "markdown",
      "source": [
        "Create a code to find the union of two lists without duplicates  \n"
      ],
      "metadata": {
        "id": "Yi3aeYkCIeaG"
      }
    },
    {
      "cell_type": "code",
      "source": [
        "def union(lst1, lst2):\n",
        "    return list(set(lst1) | set(lst2))\n",
        "\n",
        "print(union([1, 2, 3], [2, 3, 4]))\n"
      ],
      "metadata": {
        "colab": {
          "base_uri": "https://localhost:8080/",
          "height": 0
        },
        "id": "c5m_n-7dIf9f",
        "outputId": "861e0204-7b48-44c5-a250-880382d41343"
      },
      "execution_count": 21,
      "outputs": [
        {
          "output_type": "stream",
          "name": "stdout",
          "text": [
            "[1, 2, 3, 4]\n"
          ]
        }
      ]
    },
    {
      "cell_type": "markdown",
      "source": [
        "Write a code to shuffle a given list randomly without using any built-in shuffle functions\n"
      ],
      "metadata": {
        "id": "uFlNf_wvIjIF"
      }
    },
    {
      "cell_type": "code",
      "source": [
        "import random\n",
        "\n",
        "def shuffle_list(lst):\n",
        "    shuffled = lst[:]\n",
        "    for i in range(len(shuffled)):\n",
        "        j = random.randint(0, len(shuffled) - 1)\n",
        "        shuffled[i], shuffled[j] = shuffled[j], shuffled[i]\n",
        "    return shuffled\n",
        "\n",
        "print(shuffle_list([1, 2, 3, 4, 5]))\n",
        "\n"
      ],
      "metadata": {
        "colab": {
          "base_uri": "https://localhost:8080/",
          "height": 0
        },
        "id": "K-YOIAR7IjwI",
        "outputId": "0efdf8af-3182-4f64-dfa9-00dd5f2b4a38"
      },
      "execution_count": 26,
      "outputs": [
        {
          "output_type": "stream",
          "name": "stdout",
          "text": [
            "[3, 1, 5, 2, 4]\n"
          ]
        }
      ]
    },
    {
      "cell_type": "markdown",
      "source": [
        "Write a code that takes two tuples as input and returns a new tuple containing elements that are common to both input tuples"
      ],
      "metadata": {
        "id": "KbxPspjZI4np"
      }
    },
    {
      "cell_type": "code",
      "source": [
        "def common_elements(tuple1, tuple2):\n",
        "    return tuple(set(tuple1) & set(tuple2))\n",
        "\n",
        "# Example usage\n",
        "print(common_elements((1, 2, 3), (3, 4, 5)))\n"
      ],
      "metadata": {
        "colab": {
          "base_uri": "https://localhost:8080/",
          "height": 0
        },
        "id": "ArswUYsBI6a0",
        "outputId": "da400c74-3581-43e0-8b9d-50fc94fced34"
      },
      "execution_count": 27,
      "outputs": [
        {
          "output_type": "stream",
          "name": "stdout",
          "text": [
            "(3,)\n"
          ]
        }
      ]
    },
    {
      "cell_type": "markdown",
      "source": [
        "Create a code that prompts the user to enter two sets of integers separated by commas. Then, print the intersection of these two sets\n"
      ],
      "metadata": {
        "id": "HiiSuGZgI94x"
      }
    },
    {
      "cell_type": "code",
      "source": [
        "def intersection_of_sets():\n",
        "    set1 = set(map(int, input(\"Enter first set of integers (comma-separated): \").split(',')))\n",
        "    set2 = set(map(int, input(\"Enter second set of integers (comma-separated): \").split(',')))\n",
        "    return set1 & set2\n",
        "\n",
        "# Example usage\n",
        "print(intersection_of_sets())\n"
      ],
      "metadata": {
        "colab": {
          "base_uri": "https://localhost:8080/",
          "height": 0
        },
        "id": "mYcXqFEcI-k3",
        "outputId": "e959772c-b7b3-416a-fd76-844f30aeabde"
      },
      "execution_count": 28,
      "outputs": [
        {
          "output_type": "stream",
          "name": "stdout",
          "text": [
            "Enter first set of integers (comma-separated): 1,2,3,4,5\n",
            "Enter second set of integers (comma-separated): 2,3,4,5,6\n",
            "{2, 3, 4, 5}\n"
          ]
        }
      ]
    },
    {
      "cell_type": "markdown",
      "source": [
        "Write a code to concatenate two tuples. The function should take two tuples as input and return a new tuple containing elements from both input tuples.\n"
      ],
      "metadata": {
        "id": "4yehNABJJK7e"
      }
    },
    {
      "cell_type": "code",
      "source": [
        "def concatenate_tuples(tuple1, tuple2):\n",
        "    return tuple1 + tuple2\n",
        "\n",
        "# Example usage\n",
        "print(concatenate_tuples((1, 2, 3), (4, 5, 6)))\n"
      ],
      "metadata": {
        "colab": {
          "base_uri": "https://localhost:8080/",
          "height": 0
        },
        "id": "nnGlLX0wJM44",
        "outputId": "b383d99e-a1dd-4a41-9d42-4eb4f5c1b9a7"
      },
      "execution_count": 29,
      "outputs": [
        {
          "output_type": "stream",
          "name": "stdout",
          "text": [
            "(1, 2, 3, 4, 5, 6)\n"
          ]
        }
      ]
    },
    {
      "cell_type": "markdown",
      "source": [
        "Develop a code that prompts the user to input two sets of strings. Then, print the elements that are present in the first set but not in the second set\n"
      ],
      "metadata": {
        "id": "jTsaJm4VJQPY"
      }
    },
    {
      "cell_type": "code",
      "source": [
        "def set_difference():\n",
        "    set1 = set(input(\"Enter first set of strings: \").split())\n",
        "    set2 = set(input(\"Enter second set of strings: \").split())\n",
        "    return set1 - set2\n",
        "\n",
        "# Example usage\n",
        "print(set_difference())\n"
      ],
      "metadata": {
        "colab": {
          "base_uri": "https://localhost:8080/",
          "height": 0
        },
        "id": "eqCsovEGJQxF",
        "outputId": "1b376cd6-5d46-4e1b-aac1-46981ac58e6b"
      },
      "execution_count": 30,
      "outputs": [
        {
          "output_type": "stream",
          "name": "stdout",
          "text": [
            "Enter first set of strings: PWSKILLS\n",
            "Enter second set of strings: PWLABS\n",
            "{'PWSKILLS'}\n"
          ]
        }
      ]
    },
    {
      "cell_type": "markdown",
      "source": [
        "Create a code that takes a tuple and two integers as input. The function should return a new tuple containing elements from the original tuple within the specified range of indices\n"
      ],
      "metadata": {
        "id": "LM-KlXYAJa_s"
      }
    },
    {
      "cell_type": "code",
      "source": [
        "def slice_tuple(tup, start, end):\n",
        "    return tup[start:end+1]\n",
        "\n",
        "# Example usage\n",
        "print(slice_tuple((1, 2, 3, 4, 5), 1, 3))\n"
      ],
      "metadata": {
        "colab": {
          "base_uri": "https://localhost:8080/",
          "height": 0
        },
        "id": "6xVf0KlhJcyp",
        "outputId": "6895f169-1780-452f-eaef-2f0da2076de1"
      },
      "execution_count": 31,
      "outputs": [
        {
          "output_type": "stream",
          "name": "stdout",
          "text": [
            "(2, 3, 4)\n"
          ]
        }
      ]
    },
    {
      "cell_type": "markdown",
      "source": [
        "Write a code that prompts the user to input two sets of characters. Then, print the union of these two sets"
      ],
      "metadata": {
        "id": "U6OE-iw3JfD7"
      }
    },
    {
      "cell_type": "code",
      "source": [
        "def union_of_sets():\n",
        "    set1 = set(input(\"Enter first set of characters: \").split())\n",
        "    set2 = set(input(\"Enter second set of characters: \").split())\n",
        "    return set1 | set2\n",
        "\n",
        "# Example usage\n",
        "print(union_of_sets())\n"
      ],
      "metadata": {
        "colab": {
          "base_uri": "https://localhost:8080/",
          "height": 0
        },
        "id": "BG1C3WvBJhYo",
        "outputId": "19dda12f-70fc-440b-95da-e07de48185e0"
      },
      "execution_count": 32,
      "outputs": [
        {
          "output_type": "stream",
          "name": "stdout",
          "text": [
            "Enter first set of characters: a,c,v,f,g\n",
            "Enter second set of characters: l,g,j,i\n",
            "{'l,g,j,i', 'a,c,v,f,g'}\n"
          ]
        }
      ]
    },
    {
      "cell_type": "markdown",
      "source": [
        "Develop a code that takes a tuple of integers as input. The function should return the maximum and minimum values from the tuple using tuple unpacking\n"
      ],
      "metadata": {
        "id": "WJjhh8s_JoIN"
      }
    },
    {
      "cell_type": "code",
      "source": [
        "def max_min_tuple(tup):\n",
        "    return max(tup), min(tup)\n",
        "\n",
        "# Example usage\n",
        "print(max_min_tuple((1, 2, 3, 4, 5)))\n"
      ],
      "metadata": {
        "colab": {
          "base_uri": "https://localhost:8080/",
          "height": 0
        },
        "id": "2YpKvB_GJpoy",
        "outputId": "20fe4963-603f-4073-b0b9-d4b65af6a27b"
      },
      "execution_count": 33,
      "outputs": [
        {
          "output_type": "stream",
          "name": "stdout",
          "text": [
            "(5, 1)\n"
          ]
        }
      ]
    },
    {
      "cell_type": "markdown",
      "source": [
        "Create a code that defines two sets of integers. Then, print the union, intersection, and difference of these two sets"
      ],
      "metadata": {
        "id": "ycOo7tnNJt_9"
      }
    },
    {
      "cell_type": "code",
      "source": [
        "def set_operations():\n",
        "    set1 = {1, 2, 3}\n",
        "    set2 = {3, 4, 5}\n",
        "    return {\n",
        "        \"Union\": set1 | set2,\n",
        "        \"Intersection\": set1 & set2,\n",
        "        \"Difference\": set1 - set2\n",
        "    }\n",
        "\n",
        "# Example usage\n",
        "print(set_operations())\n"
      ],
      "metadata": {
        "colab": {
          "base_uri": "https://localhost:8080/",
          "height": 0
        },
        "id": "oosATsuYJuo7",
        "outputId": "fc9f96fd-b501-4fac-9d4d-a726ae55bb06"
      },
      "execution_count": 34,
      "outputs": [
        {
          "output_type": "stream",
          "name": "stdout",
          "text": [
            "{'Union': {1, 2, 3, 4, 5}, 'Intersection': {3}, 'Difference': {1, 2}}\n"
          ]
        }
      ]
    },
    {
      "cell_type": "markdown",
      "source": [
        "Write a code that takes a tuple and an element as input. The function should return the count of occurrences of the given element in the tuple"
      ],
      "metadata": {
        "id": "WM46zvMRJyjv"
      }
    },
    {
      "cell_type": "code",
      "source": [
        "def count_in_tuple(tup, element):\n",
        "    return tup.count(element)\n",
        "\n",
        "# Example usage\n",
        "print(count_in_tuple((1, 2, 3, 1, 1), 1))\n"
      ],
      "metadata": {
        "colab": {
          "base_uri": "https://localhost:8080/",
          "height": 0
        },
        "id": "FyN1r06gJzKc",
        "outputId": "70da04c5-7c8f-41d5-fda4-fde55fd21193"
      },
      "execution_count": 35,
      "outputs": [
        {
          "output_type": "stream",
          "name": "stdout",
          "text": [
            "3\n"
          ]
        }
      ]
    },
    {
      "cell_type": "markdown",
      "source": [
        "Develop a code that prompts the user to input two sets of strings. Then, print the symmetric difference between these two sets\n"
      ],
      "metadata": {
        "id": "3TY5tKJdJ2i9"
      }
    },
    {
      "cell_type": "code",
      "source": [
        "def symmetric_difference():\n",
        "    set1 = set(input(\"Enter first set of strings: \").split())\n",
        "    set2 = set(input(\"Enter second set of strings: \").split())\n",
        "    return set1 ^ set2\n",
        "\n",
        "# Example usage\n",
        "print(symmetric_difference())\n"
      ],
      "metadata": {
        "colab": {
          "base_uri": "https://localhost:8080/",
          "height": 0
        },
        "id": "GEJhwdwiJ3Dg",
        "outputId": "5538fea3-67eb-4dd1-efc0-0a33fc2c7b91"
      },
      "execution_count": 36,
      "outputs": [
        {
          "output_type": "stream",
          "name": "stdout",
          "text": [
            "Enter first set of strings: PWSKILLS\n",
            "Enter second set of strings: PWSKLS\n",
            "{'PWSKLS', 'PWSKILLS'}\n"
          ]
        }
      ]
    },
    {
      "cell_type": "markdown",
      "source": [
        "Write a code that takes a list of words as input and returns a dictionary where the keys are unique words and the values are the frequencies of those words in the input list\n"
      ],
      "metadata": {
        "id": "cY2vEtDZKBQA"
      }
    },
    {
      "cell_type": "code",
      "source": [
        "from collections import Counter\n",
        "\n",
        "def word_frequency(words):\n",
        "    return dict(Counter(words))\n",
        "\n",
        "# Example usage\n",
        "print(word_frequency([\"apple\", \"banana\", \"apple\", \"orange\", \"banana\", \"apple\"]))\n"
      ],
      "metadata": {
        "colab": {
          "base_uri": "https://localhost:8080/",
          "height": 0
        },
        "id": "CiqvyXq2KB7v",
        "outputId": "73851e02-97d4-455d-fbdc-01416eccf04c"
      },
      "execution_count": 37,
      "outputs": [
        {
          "output_type": "stream",
          "name": "stdout",
          "text": [
            "{'apple': 3, 'banana': 2, 'orange': 1}\n"
          ]
        }
      ]
    },
    {
      "cell_type": "markdown",
      "source": [
        "Write a code that takes two dictionaries as input and merges them into a single dictionary. If there are common keys, the values should be added together"
      ],
      "metadata": {
        "id": "81x_UBqJKE9n"
      }
    },
    {
      "cell_type": "code",
      "source": [
        "def merge_dictionaries(dict1, dict2):\n",
        "    merged = dict1.copy()\n",
        "    for key, value in dict2.items():\n",
        "        if key in merged:\n",
        "            merged[key] += value\n",
        "        else:\n",
        "            merged[key] = value\n",
        "    return merged\n",
        "\n",
        "# Example usage\n",
        "print(merge_dictionaries({\"a\": 1, \"b\": 2}, {\"b\": 3, \"c\": 4}))\n"
      ],
      "metadata": {
        "colab": {
          "base_uri": "https://localhost:8080/",
          "height": 0
        },
        "id": "D6rQorzRKGwe",
        "outputId": "71deb2bb-1366-49c0-be07-b5744bf4e9f9"
      },
      "execution_count": 38,
      "outputs": [
        {
          "output_type": "stream",
          "name": "stdout",
          "text": [
            "{'a': 1, 'b': 5, 'c': 4}\n"
          ]
        }
      ]
    },
    {
      "cell_type": "markdown",
      "source": [
        "Write a code to access a value in a nested dictionary. The function should take the dictionary and a list of keys as input, and return the corresponding value. If any of the keys do not exist in the dictionary, the function should return None"
      ],
      "metadata": {
        "id": "SUNgXSn1KKNt"
      }
    },
    {
      "cell_type": "code",
      "source": [
        "def access_nested_dict(d, keys):\n",
        "    for key in keys:\n",
        "        if key in d:\n",
        "            d = d[key]\n",
        "        else:\n",
        "            return None\n",
        "    return d\n",
        "\n",
        "# Example usage\n",
        "nested_dict = {\"a\": {\"b\": {\"c\": 42}}}\n",
        "print(access_nested_dict(nested_dict, [\"a\", \"b\", \"c\"]))\n"
      ],
      "metadata": {
        "colab": {
          "base_uri": "https://localhost:8080/",
          "height": 0
        },
        "id": "anp9aJYiKKsL",
        "outputId": "ee6e08d4-1e2c-4baf-e7b2-9f0a13b29d97"
      },
      "execution_count": 39,
      "outputs": [
        {
          "output_type": "stream",
          "name": "stdout",
          "text": [
            "42\n"
          ]
        }
      ]
    },
    {
      "cell_type": "markdown",
      "source": [
        "Write a code that takes a dictionary as input and returns a sorted version of it based on the values. You can choose whether to sort in ascending or descending order\n"
      ],
      "metadata": {
        "id": "YLt3XnOKKO3e"
      }
    },
    {
      "cell_type": "code",
      "source": [
        "def sort_dict_by_values(d, descending=False):\n",
        "    return dict(sorted(d.items(), key=lambda x: x[1], reverse=descending))\n",
        "\n",
        "# Example usage\n",
        "print(sort_dict_by_values({\"a\": 3, \"b\": 1, \"c\": 2}))\n"
      ],
      "metadata": {
        "colab": {
          "base_uri": "https://localhost:8080/",
          "height": 0
        },
        "id": "Kmf-NiRUKPZR",
        "outputId": "9ca049b4-3167-4b18-9db6-67a25de9769c"
      },
      "execution_count": 40,
      "outputs": [
        {
          "output_type": "stream",
          "name": "stdout",
          "text": [
            "{'b': 1, 'c': 2, 'a': 3}\n"
          ]
        }
      ]
    },
    {
      "cell_type": "markdown",
      "source": [
        "Write a code that inverts a dictionary, swapping keys and values. Ensure that the inverted dictionary correctly handles cases where multiple keys have the same value by storing the keys as a list in the inverted dictionary\n"
      ],
      "metadata": {
        "id": "XkmYTNzRKSp8"
      }
    },
    {
      "cell_type": "code",
      "source": [
        "def invert_dict(d):\n",
        "    inverted = {}\n",
        "    for key, value in d.items():\n",
        "        inverted.setdefault(value, []).append(key)\n",
        "    return inverted\n",
        "\n",
        "# Example usage\n",
        "print(invert_dict({\"a\": 1, \"b\": 2, \"c\": 1}))\n"
      ],
      "metadata": {
        "colab": {
          "base_uri": "https://localhost:8080/",
          "height": 0
        },
        "id": "tDQfQIUbKUmj",
        "outputId": "efb9ccca-d997-4f44-da74-3721c242cfe6"
      },
      "execution_count": 41,
      "outputs": [
        {
          "output_type": "stream",
          "name": "stdout",
          "text": [
            "{1: ['a', 'c'], 2: ['b']}\n"
          ]
        }
      ]
    }
  ]
}